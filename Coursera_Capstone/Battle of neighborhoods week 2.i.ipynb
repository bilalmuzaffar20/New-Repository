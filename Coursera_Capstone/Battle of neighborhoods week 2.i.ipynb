{
    "cells": [
        {
            "cell_type": "code",
            "execution_count": 11,
            "metadata": {},
            "outputs": [],
            "source": "# The code was removed by Watson Studio for sharing."
        },
        {
            "cell_type": "code",
            "execution_count": 12,
            "metadata": {},
            "outputs": [],
            "source": "def geo_location(address):\n    # get geo location of address\n    geolocator = Nominatim(user_agent=\"ny_explorer\")\n    location = geolocator.geocode(address)\n    latitude = location.latitude\n    longitude = location.longitude\n    return latitude,longitude"
        },
        {
            "cell_type": "code",
            "execution_count": 1,
            "metadata": {},
            "outputs": [
                {
                    "ename": "SyntaxError",
                    "evalue": "invalid syntax (<ipython-input-1-cd4ecc6bd66d>, line 1)",
                    "output_type": "error",
                    "traceback": [
                        "\u001b[0;36m  File \u001b[0;32m\"<ipython-input-1-cd4ecc6bd66d>\"\u001b[0;36m, line \u001b[0;32m1\u001b[0m\n\u001b[0;31m    ef get_venues(lat,lng):\u001b[0m\n\u001b[0m                ^\u001b[0m\n\u001b[0;31mSyntaxError\u001b[0m\u001b[0;31m:\u001b[0m invalid syntax\n"
                    ]
                }
            ],
            "source": "ef get_venues(lat,lng):\n    \n    #set variables\n    radius=1000\n    LIMIT=100\n   \n    VERSION = '20180605' # Foursquare API version\n    \n    #url to fetch data from foursquare api\n    url = 'https://api.foursquare.com/v2/venues/explore?&client_id={}&client_secret={}&v={}&ll={},{}&radius={}&limit={}'.format(\n            CLIENT_ID, \n            CLIENT_SECRET, \n            VERSION, \n            lat, \n            lng, \n            radius, \n            LIMIT)\n    \n    # get all the data\n    results = requests.get(url).json()\n    venue_data=results[\"response\"]['groups'][0]['items']\n    venue_details=[]\n    for row in venue_data:\n        try:\n            venue_id=row['venue']['id']\n            venue_name=row['venue']['name']\n            venue_category=row['venue']['categories'][0]['name']\n            venue_details.append([venue_id,venue_name,venue_category])\n        except KeyError:\n            pass\n        \n    column_names=['ID','Name','Category']\n    df = pd.DataFrame(venue_details,columns=column_names)\n    print(\"done\")\n    return df"
        },
        {
            "cell_type": "code",
            "execution_count": 15,
            "metadata": {},
            "outputs": [],
            "source": "def get_venue_details(venue_id):\n        \n    CLIENT_ID = '###########################' # i have changed the id with ##\n    CLIENT_SECRET = '############################' # i have changed the secret with ##\n    VERSION = '20180605' # Foursquare API version\n    \n    #url to fetch data from foursquare api\n    url = 'https://api.foursquare.com/v2/venues/{}?&client_id={}&client_secret={}&v={}'.format(\n            venue_id,\n            CLIENT_ID, \n            CLIENT_SECRET, \n            VERSION)\n    \n    # get all the data\n    results = requests.get(url).json()\n    venue_data=results['response']['venue']\n    venue_details=[]\n    try:\n        venue_id=venue_data['id']\n        venue_name=venue_data['name']\n        venue_likes=venue_data['likes']['count']\n        venue_rating=venue_data['rating']\n        venue_tips=venue_data['tips']['count']\n        venue_details.append([venue_id,venue_name,venue_likes,venue_rating,venue_tips])\n    except KeyError:\n        pass\n        \n    column_names=['ID','Name','Likes','Rating','Tips']\n    df = pd.DataFrame(venue_details,columns=column_names)\n    return df"
        },
        {
            "cell_type": "code",
            "execution_count": 2,
            "metadata": {},
            "outputs": [],
            "source": "def get_new_york_data():\n    url='https://cocl.us/new_york_dataset'\n    resp=requests.get(url).json()\n    # all data is present in features label\n    features=resp['features']\n    \n    # define the dataframe columns\n    column_names = ['Borough', 'Neighborhood', 'Latitude', 'Longitude'] \n    # instantiate the dataframe\n    new_york_data = pd.DataFrame(columns=column_names)\n    \n    for data in features:\n        borough = data['properties']['borough'] \n        neighborhood_name = data['properties']['name']\n        \n        neighborhood_latlon = data['geometry']['coordinates']\n        neighborhood_lat = neighborhood_latlon[1]\n        neighborhood_lon = neighborhood_latlon[0]\n    \n        new_york_data = new_york_data.append({'Borough': borough,\n                                          'Neighborhood': neighborhood_name,\n                                          'Latitude': neighborhood_lat,\n                                          'Longitude': neighborhood_lon}, ignore_index=True)\n    \n    return new_york_data"
        },
        {
            "cell_type": "code",
            "execution_count": 17,
            "metadata": {},
            "outputs": [
                {
                    "data": {
                        "text/html": "<div>\n<style scoped>\n    .dataframe tbody tr th:only-of-type {\n        vertical-align: middle;\n    }\n\n    .dataframe tbody tr th {\n        vertical-align: top;\n    }\n\n    .dataframe thead th {\n        text-align: right;\n    }\n</style>\n<table border=\"1\" class=\"dataframe\">\n  <thead>\n    <tr style=\"text-align: right;\">\n      <th></th>\n      <th>Borough</th>\n      <th>Neighborhood</th>\n      <th>Latitude</th>\n      <th>Longitude</th>\n    </tr>\n  </thead>\n  <tbody>\n    <tr>\n      <th>0</th>\n      <td>Bronx</td>\n      <td>Wakefield</td>\n      <td>40.894705</td>\n      <td>-73.847201</td>\n    </tr>\n    <tr>\n      <th>1</th>\n      <td>Bronx</td>\n      <td>Co-op City</td>\n      <td>40.874294</td>\n      <td>-73.829939</td>\n    </tr>\n    <tr>\n      <th>2</th>\n      <td>Bronx</td>\n      <td>Eastchester</td>\n      <td>40.887556</td>\n      <td>-73.827806</td>\n    </tr>\n    <tr>\n      <th>3</th>\n      <td>Bronx</td>\n      <td>Fieldston</td>\n      <td>40.895437</td>\n      <td>-73.905643</td>\n    </tr>\n    <tr>\n      <th>4</th>\n      <td>Bronx</td>\n      <td>Riverdale</td>\n      <td>40.890834</td>\n      <td>-73.912585</td>\n    </tr>\n  </tbody>\n</table>\n</div>",
                        "text/plain": "  Borough Neighborhood   Latitude  Longitude\n0   Bronx    Wakefield  40.894705 -73.847201\n1   Bronx   Co-op City  40.874294 -73.829939\n2   Bronx  Eastchester  40.887556 -73.827806\n3   Bronx    Fieldston  40.895437 -73.905643\n4   Bronx    Riverdale  40.890834 -73.912585"
                    },
                    "execution_count": 17,
                    "metadata": {},
                    "output_type": "execute_result"
                }
            ],
            "source": "# get new york data\nnew_york_data=get_new_york_data()\nnew_york_data.head()"
        },
        {
            "cell_type": "code",
            "execution_count": 18,
            "metadata": {},
            "outputs": [
                {
                    "data": {
                        "text/plain": "(306, 4)"
                    },
                    "execution_count": 18,
                    "metadata": {},
                    "output_type": "execute_result"
                }
            ],
            "source": "new_york_data.shape"
        },
        {
            "cell_type": "code",
            "execution_count": 3,
            "metadata": {},
            "outputs": [
                {
                    "ename": "NameError",
                    "evalue": "name 'plt' is not defined",
                    "output_type": "error",
                    "traceback": [
                        "\u001b[0;31m---------------------------------------------------------------------------\u001b[0m",
                        "\u001b[0;31mNameError\u001b[0m                                 Traceback (most recent call last)",
                        "\u001b[0;32m<ipython-input-3-316b3dc9b6ec>\u001b[0m in \u001b[0;36m<module>\u001b[0;34m\u001b[0m\n\u001b[0;32m----> 1\u001b[0;31m \u001b[0mplt\u001b[0m\u001b[0;34m.\u001b[0m\u001b[0mfigure\u001b[0m\u001b[0;34m(\u001b[0m\u001b[0mfigsize\u001b[0m\u001b[0;34m=\u001b[0m\u001b[0;34m(\u001b[0m\u001b[0;36m9\u001b[0m\u001b[0;34m,\u001b[0m\u001b[0;36m5\u001b[0m\u001b[0;34m)\u001b[0m\u001b[0;34m,\u001b[0m \u001b[0mdpi\u001b[0m \u001b[0;34m=\u001b[0m \u001b[0;36m100\u001b[0m\u001b[0;34m)\u001b[0m\u001b[0;34m\u001b[0m\u001b[0;34m\u001b[0m\u001b[0m\n\u001b[0m\u001b[1;32m      2\u001b[0m \u001b[0;31m# title\u001b[0m\u001b[0;34m\u001b[0m\u001b[0;34m\u001b[0m\u001b[0;34m\u001b[0m\u001b[0m\n\u001b[1;32m      3\u001b[0m \u001b[0mplt\u001b[0m\u001b[0;34m.\u001b[0m\u001b[0mtitle\u001b[0m\u001b[0;34m(\u001b[0m\u001b[0;34m'Number of Neighborhood for each Borough in New York City'\u001b[0m\u001b[0;34m)\u001b[0m\u001b[0;34m\u001b[0m\u001b[0;34m\u001b[0m\u001b[0m\n\u001b[1;32m      4\u001b[0m \u001b[0;31m#On x-axis\u001b[0m\u001b[0;34m\u001b[0m\u001b[0;34m\u001b[0m\u001b[0;34m\u001b[0m\u001b[0m\n\u001b[1;32m      5\u001b[0m \u001b[0mplt\u001b[0m\u001b[0;34m.\u001b[0m\u001b[0mxlabel\u001b[0m\u001b[0;34m(\u001b[0m\u001b[0;34m'Borough'\u001b[0m\u001b[0;34m,\u001b[0m \u001b[0mfontsize\u001b[0m \u001b[0;34m=\u001b[0m \u001b[0;36m15\u001b[0m\u001b[0;34m)\u001b[0m\u001b[0;34m\u001b[0m\u001b[0;34m\u001b[0m\u001b[0m\n",
                        "\u001b[0;31mNameError\u001b[0m: name 'plt' is not defined"
                    ]
                }
            ],
            "source": "plt.figure(figsize=(9,5), dpi = 100)\n# title\nplt.title('Number of Neighborhood for each Borough in New York City')\n#On x-axis\nplt.xlabel('Borough', fontsize = 15)\n#On y-axis\nplt.ylabel('No.of Neighborhood', fontsize=15)\n#giving a bar plot\nnew_york_data.groupby('Borough')['Neighborhood'].count().plot(kind='bar')\n#legend\nplt.legend()\n#displays the plot\nplt.show()"
        },
        {
            "cell_type": "code",
            "execution_count": 4,
            "metadata": {},
            "outputs": [
                {
                    "ename": "NameError",
                    "evalue": "name 'pd' is not defined",
                    "output_type": "error",
                    "traceback": [
                        "\u001b[0;31m---------------------------------------------------------------------------\u001b[0m",
                        "\u001b[0;31mNameError\u001b[0m                                 Traceback (most recent call last)",
                        "\u001b[0;32m<ipython-input-4-62ba867f6a7e>\u001b[0m in \u001b[0;36m<module>\u001b[0;34m\u001b[0m\n\u001b[1;32m      1\u001b[0m \u001b[0mcolumn_names\u001b[0m\u001b[0;34m=\u001b[0m\u001b[0;34m[\u001b[0m\u001b[0;34m'Borough'\u001b[0m\u001b[0;34m,\u001b[0m \u001b[0;34m'Neighborhood'\u001b[0m\u001b[0;34m,\u001b[0m \u001b[0;34m'id'\u001b[0m\u001b[0;34m,\u001b[0m\u001b[0;34m'Name'\u001b[0m\u001b[0;34m]\u001b[0m\u001b[0;34m\u001b[0m\u001b[0;34m\u001b[0m\u001b[0m\n\u001b[0;32m----> 2\u001b[0;31m \u001b[0marabian_rest_ny\u001b[0m\u001b[0;34m=\u001b[0m\u001b[0mpd\u001b[0m\u001b[0;34m.\u001b[0m\u001b[0mDataFrame\u001b[0m\u001b[0;34m(\u001b[0m\u001b[0mcolumns\u001b[0m\u001b[0;34m=\u001b[0m\u001b[0mcolumn_names\u001b[0m\u001b[0;34m)\u001b[0m\u001b[0;34m\u001b[0m\u001b[0;34m\u001b[0m\u001b[0m\n\u001b[0m\u001b[1;32m      3\u001b[0m \u001b[0mcount\u001b[0m\u001b[0;34m=\u001b[0m\u001b[0;36m1\u001b[0m\u001b[0;34m\u001b[0m\u001b[0;34m\u001b[0m\u001b[0m\n\u001b[1;32m      4\u001b[0m \u001b[0;32mfor\u001b[0m \u001b[0mrow\u001b[0m \u001b[0;32min\u001b[0m \u001b[0mnew_york_data\u001b[0m\u001b[0;34m.\u001b[0m\u001b[0mvalues\u001b[0m\u001b[0;34m.\u001b[0m\u001b[0mtolist\u001b[0m\u001b[0;34m(\u001b[0m\u001b[0;34m)\u001b[0m\u001b[0;34m:\u001b[0m\u001b[0;34m\u001b[0m\u001b[0;34m\u001b[0m\u001b[0m\n\u001b[1;32m      5\u001b[0m     \u001b[0mBorough\u001b[0m\u001b[0;34m,\u001b[0m \u001b[0mNeighborhood\u001b[0m\u001b[0;34m,\u001b[0m \u001b[0mLatitude\u001b[0m\u001b[0;34m,\u001b[0m \u001b[0mLongitude\u001b[0m\u001b[0;34m=\u001b[0m\u001b[0mrow\u001b[0m\u001b[0;34m\u001b[0m\u001b[0;34m\u001b[0m\u001b[0m\n",
                        "\u001b[0;31mNameError\u001b[0m: name 'pd' is not defined"
                    ]
                }
            ],
            "source": "column_names=['Borough', 'Neighborhood', 'id','Name']\narabian_rest_ny=pd.DataFrame(columns=column_names)\ncount=1\nfor row in new_york_data.values.tolist():\n    Borough, Neighborhood, Latitude, Longitude=row\n    venues = get_venues(Latitude,Longitude)\n    arabian_resturants=venues[venues['Category']=='arabian Restaurant']   \n    print('(',count,'/',len(new_york_data),')','arabian Resturants in '+Neighborhood+', '+Borough+':'+str(len(arabian_resturants)))\n    for resturant_detail in arabian_resturants.values.tolist():\n        id, name , category=resturant_detail\n        arabian_rest_ny = indian_rest_ny.append({'Borough': Borough,\n                                                'Neighborhood': Neighborhood, \n                                                'ID': ab,\n                                                'Name' : name\n                                               }, ignore_index=True)\n    count+=1\ndone"
        },
        {
            "cell_type": "code",
            "execution_count": 26,
            "metadata": {},
            "outputs": [
                {
                    "ename": "NameError",
                    "evalue": "name 'plt' is not defined",
                    "output_type": "error",
                    "traceback": [
                        "\u001b[0;31m---------------------------------------------------------------------------\u001b[0m",
                        "\u001b[0;31mNameError\u001b[0m                                 Traceback (most recent call last)",
                        "\u001b[0;32m<ipython-input-26-e277337970c6>\u001b[0m in \u001b[0;36m<module>\u001b[0;34m\u001b[0m\n\u001b[0;32m----> 1\u001b[0;31m \u001b[0mplt\u001b[0m\u001b[0;34m.\u001b[0m\u001b[0mfigure\u001b[0m\u001b[0;34m(\u001b[0m\u001b[0mfigsize\u001b[0m\u001b[0;34m=\u001b[0m\u001b[0;34m(\u001b[0m\u001b[0;36m9\u001b[0m\u001b[0;34m,\u001b[0m\u001b[0;36m5\u001b[0m\u001b[0;34m)\u001b[0m\u001b[0;34m,\u001b[0m \u001b[0mdpi\u001b[0m \u001b[0;34m=\u001b[0m \u001b[0;36m100\u001b[0m\u001b[0;34m)\u001b[0m\u001b[0;34m\u001b[0m\u001b[0;34m\u001b[0m\u001b[0m\n\u001b[0m\u001b[1;32m      2\u001b[0m \u001b[0;31m# title\u001b[0m\u001b[0;34m\u001b[0m\u001b[0;34m\u001b[0m\u001b[0;34m\u001b[0m\u001b[0m\n\u001b[1;32m      3\u001b[0m \u001b[0mplt\u001b[0m\u001b[0;34m.\u001b[0m\u001b[0mtitle\u001b[0m\u001b[0;34m(\u001b[0m\u001b[0;34m'Number of Arabian Resturants for each Borough in New York City'\u001b[0m\u001b[0;34m)\u001b[0m\u001b[0;34m\u001b[0m\u001b[0;34m\u001b[0m\u001b[0m\n\u001b[1;32m      4\u001b[0m \u001b[0;31m#On x-axis\u001b[0m\u001b[0;34m\u001b[0m\u001b[0;34m\u001b[0m\u001b[0;34m\u001b[0m\u001b[0m\n\u001b[1;32m      5\u001b[0m \u001b[0mplt\u001b[0m\u001b[0;34m.\u001b[0m\u001b[0mxlabel\u001b[0m\u001b[0;34m(\u001b[0m\u001b[0;34m'Borough'\u001b[0m\u001b[0;34m,\u001b[0m \u001b[0mfontsize\u001b[0m \u001b[0;34m=\u001b[0m \u001b[0;36m15\u001b[0m\u001b[0;34m)\u001b[0m\u001b[0;34m\u001b[0m\u001b[0;34m\u001b[0m\u001b[0m\n",
                        "\u001b[0;31mNameError\u001b[0m: name 'plt' is not defined"
                    ]
                }
            ],
            "source": "plt.figure(figsize=(9,5), dpi = 100)\n# title\nplt.title('Number of Arabian Resturants for each Borough in New York City')\n#On x-axis\nplt.xlabel('Borough', fontsize = 15)\n#On y-axis\nplt.ylabel('No.of Arabian Resturants', fontsize=15)\n#giving a bar plot\narabian_rest_ny.groupby('Borough')['ID'].count().plot(kind='bar')\n#legend\nplt.legend()\n#displays the plot\nplt.show()\n"
        },
        {
            "cell_type": "code",
            "execution_count": 30,
            "metadata": {},
            "outputs": [],
            "source": "# prepare neighborhood list that contains arabian resturants\ncolumn_names=['Borough', 'Neighborhood', 'ID','Name','Likes','Rating','Tips']\narabian_rest_stats_ny=pd.DataFrame(columns=column_names)\ncount=1\n\n\nfor row in arabian_rest_ny.values.tolist():\n    Borough,Neighborhood,ID,Name=row\n    try:\n        venue_details=get_venue_details(ID)\n        print(venue_details)\n        id,name,likes,rating,tips=venue_details.values.tolist()[0]\n    except IndexError:\n        print('No data available for id=',ID)\n        # we will assign 0 value for these resturants as they may have been \n        #recently opened or details does not exist in FourSquare Database\n        id,name,likes,rating,tips=[0]*5\n    print('(',count,'/',len(arabian_rest_ny),')','processed')\n    arabian_rest_stats_ny = arabian_rest_stats_ny.append({'Borough': Borough,\n                                                'Neighborhood': Neighborhood, \n                                                'ID': id,\n                                                'Name' : name,\n                                                'Likes' : likes,\n                                                'Rating' : rating,\n                                                'Tips' : tips\n                                               }, ignore_index=True)\ncount+=1"
        },
        {
            "cell_type": "code",
            "execution_count": 31,
            "metadata": {},
            "outputs": [
                {
                    "data": {
                        "text/html": "<div>\n<style scoped>\n    .dataframe tbody tr th:only-of-type {\n        vertical-align: middle;\n    }\n\n    .dataframe tbody tr th {\n        vertical-align: top;\n    }\n\n    .dataframe thead th {\n        text-align: right;\n    }\n</style>\n<table border=\"1\" class=\"dataframe\">\n  <thead>\n    <tr style=\"text-align: right;\">\n      <th></th>\n      <th>Borough</th>\n      <th>Neighborhood</th>\n      <th>ID</th>\n      <th>Name</th>\n      <th>Likes</th>\n      <th>Rating</th>\n      <th>Tips</th>\n    </tr>\n  </thead>\n  <tbody>\n  </tbody>\n</table>\n</div>",
                        "text/plain": "Empty DataFrame\nColumns: [Borough, Neighborhood, ID, Name, Likes, Rating, Tips]\nIndex: []"
                    },
                    "execution_count": 31,
                    "metadata": {},
                    "output_type": "execute_result"
                }
            ],
            "source": "arabian_rest_stats_ny.head()"
        },
        {
            "cell_type": "code",
            "execution_count": 32,
            "metadata": {},
            "outputs": [
                {
                    "data": {
                        "text/plain": "(0, 7)"
                    },
                    "execution_count": 32,
                    "metadata": {},
                    "output_type": "execute_result"
                }
            ],
            "source": "arabian_rest_stats_ny.shape"
        },
        {
            "cell_type": "code",
            "execution_count": 33,
            "metadata": {},
            "outputs": [
                {
                    "data": {
                        "text/plain": "(0, 4)"
                    },
                    "execution_count": 33,
                    "metadata": {},
                    "output_type": "execute_result"
                }
            ],
            "source": "arabian_rest_ny.shape"
        },
        {
            "cell_type": "code",
            "execution_count": 34,
            "metadata": {},
            "outputs": [],
            "source": "arabian_rest_stats_ny.to_csv('arabian_rest_stats_ny.csv', index=False)"
        },
        {
            "cell_type": "code",
            "execution_count": 35,
            "metadata": {},
            "outputs": [],
            "source": "arabian_rest_stats_ny_csv=pd.read_csv('arabian_rest_stats_ny.csv')"
        },
        {
            "cell_type": "code",
            "execution_count": 36,
            "metadata": {},
            "outputs": [
                {
                    "data": {
                        "text/plain": "(0, 7)"
                    },
                    "execution_count": 36,
                    "metadata": {},
                    "output_type": "execute_result"
                }
            ],
            "source": "arabian_rest_stats_ny_csv.shape"
        },
        {
            "cell_type": "code",
            "execution_count": 37,
            "metadata": {},
            "outputs": [
                {
                    "data": {
                        "text/html": "<div>\n<style scoped>\n    .dataframe tbody tr th:only-of-type {\n        vertical-align: middle;\n    }\n\n    .dataframe tbody tr th {\n        vertical-align: top;\n    }\n\n    .dataframe thead th {\n        text-align: right;\n    }\n</style>\n<table border=\"1\" class=\"dataframe\">\n  <thead>\n    <tr style=\"text-align: right;\">\n      <th></th>\n      <th>Borough</th>\n      <th>Neighborhood</th>\n      <th>ID</th>\n      <th>Name</th>\n      <th>Likes</th>\n      <th>Rating</th>\n      <th>Tips</th>\n    </tr>\n  </thead>\n  <tbody>\n  </tbody>\n</table>\n</div>",
                        "text/plain": "Empty DataFrame\nColumns: [Borough, Neighborhood, ID, Name, Likes, Rating, Tips]\nIndex: []"
                    },
                    "execution_count": 37,
                    "metadata": {},
                    "output_type": "execute_result"
                }
            ],
            "source": "arabian_rest_stats_ny_csv.head()"
        },
        {
            "cell_type": "code",
            "execution_count": 38,
            "metadata": {},
            "outputs": [
                {
                    "name": "stdout",
                    "output_type": "stream",
                    "text": "<class 'pandas.core.frame.DataFrame'>\nIndex: 0 entries\nData columns (total 7 columns):\nBorough         0 non-null object\nNeighborhood    0 non-null object\nID              0 non-null object\nName            0 non-null object\nLikes           0 non-null object\nRating          0 non-null object\nTips            0 non-null object\ndtypes: object(7)\nmemory usage: 0.0+ bytes\n"
                }
            ],
            "source": "arabian_rest_stats_ny.info()"
        },
        {
            "cell_type": "code",
            "execution_count": 39,
            "metadata": {},
            "outputs": [],
            "source": "arabian_rest_stats_ny['Likes']=arabian_rest_stats_ny['Likes'].astype('float64')"
        },
        {
            "cell_type": "code",
            "execution_count": 40,
            "metadata": {},
            "outputs": [],
            "source": "arabian_rest_stats_ny['Tips']=arabian_rest_stats_ny['Tips'].astype('float64')"
        }
    ],
    "metadata": {
        "kernelspec": {
            "display_name": "Python 3.6",
            "language": "python",
            "name": "python3"
        },
        "language_info": {
            "codemirror_mode": {
                "name": "ipython",
                "version": 3
            },
            "file_extension": ".py",
            "mimetype": "text/x-python",
            "name": "python",
            "nbconvert_exporter": "python",
            "pygments_lexer": "ipython3",
            "version": "3.6.9"
        }
    },
    "nbformat": 4,
    "nbformat_minor": 1
}